{
  "nbformat": 4,
  "nbformat_minor": 0,
  "metadata": {
    "colab": {
      "provenance": []
    },
    "kernelspec": {
      "name": "python3",
      "display_name": "Python 3"
    },
    "language_info": {
      "name": "python"
    }
  },
  "cells": [
    {
      "cell_type": "code",
      "execution_count": null,
      "metadata": {
        "id": "xQzBq7B36NFP"
      },
      "outputs": [],
      "source": [
        "import pandas as pd"
      ]
    },
    {
      "cell_type": "markdown",
      "source": [
        "1. Import the dataset using Pandas from url."
      ],
      "metadata": {
        "id": "YB8k597p-zmd"
      }
    },
    {
      "cell_type": "code",
      "source": [
        "data = pd.read_csv(\"covid data.csv\")"
      ],
      "metadata": {
        "id": "6KcwmpFF6Tsd"
      },
      "execution_count": null,
      "outputs": []
    },
    {
      "cell_type": "markdown",
      "source": [
        "2. High Level Data Understanding:"
      ],
      "metadata": {
        "id": "NrfDUK8BA4IM"
      }
    },
    {
      "cell_type": "markdown",
      "source": [
        "a. Find no. of rows & columns in the dataset"
      ],
      "metadata": {
        "id": "uNxQfj7FA-Sh"
      }
    },
    {
      "cell_type": "code",
      "source": [
        "print(data.shape)"
      ],
      "metadata": {
        "colab": {
          "base_uri": "https://localhost:8080/"
        },
        "id": "z0WoK2Ni7jYY",
        "outputId": "2a64a8c0-3ad4-4641-e7f2-0dfeec934a23"
      },
      "execution_count": null,
      "outputs": [
        {
          "output_type": "stream",
          "name": "stdout",
          "text": [
            "(50798, 49)\n"
          ]
        }
      ]
    },
    {
      "cell_type": "markdown",
      "source": [
        "b. Data types of columns."
      ],
      "metadata": {
        "id": "VrMe31tTBQTl"
      }
    },
    {
      "cell_type": "code",
      "source": [
        "print(data.dtypes)"
      ],
      "metadata": {
        "colab": {
          "base_uri": "https://localhost:8080/"
        },
        "id": "5DzZbWjL7rlQ",
        "outputId": "b4962450-28e7-4a1e-bf65-a1a685fc7fc3"
      },
      "execution_count": null,
      "outputs": [
        {
          "output_type": "stream",
          "name": "stdout",
          "text": [
            "iso_code                               object\n",
            "continent                              object\n",
            "location                               object\n",
            "date                                   object\n",
            "total_cases                           float64\n",
            "new_cases                             float64\n",
            "new_cases_smoothed                    float64\n",
            "total_deaths                          float64\n",
            "new_deaths                            float64\n",
            "new_deaths_smoothed                   float64\n",
            "total_cases_per_million               float64\n",
            "new_cases_per_million                 float64\n",
            "new_cases_smoothed_per_million        float64\n",
            "total_deaths_per_million              float64\n",
            "new_deaths_per_million                float64\n",
            "new_deaths_smoothed_per_million       float64\n",
            "reproduction_rate                     float64\n",
            "icu_patients                          float64\n",
            "icu_patients_per_million              float64\n",
            "hosp_patients                         float64\n",
            "hosp_patients_per_million             float64\n",
            "weekly_icu_admissions                 float64\n",
            "weekly_icu_admissions_per_million     float64\n",
            "weekly_hosp_admissions                float64\n",
            "weekly_hosp_admissions_per_million    float64\n",
            "total_tests                           float64\n",
            "new_tests                             float64\n",
            "total_tests_per_thousand              float64\n",
            "new_tests_per_thousand                float64\n",
            "new_tests_smoothed                    float64\n",
            "new_tests_smoothed_per_thousand       float64\n",
            "tests_per_case                        float64\n",
            "positive_rate                         float64\n",
            "stringency_index                      float64\n",
            "population                              int64\n",
            "population_density                    float64\n",
            "median_age                            float64\n",
            "aged_65_older                         float64\n",
            "aged_70_older                         float64\n",
            "gdp_per_capita                        float64\n",
            "extreme_poverty                       float64\n",
            "cardiovasc_death_rate                 float64\n",
            "diabetes_prevalence                   float64\n",
            "female_smokers                        float64\n",
            "male_smokers                          float64\n",
            "handwashing_facilities                float64\n",
            "hospital_beds_per_thousand            float64\n",
            "life_expectancy                       float64\n",
            "human_development_index               float64\n",
            "dtype: object\n"
          ]
        }
      ]
    },
    {
      "cell_type": "markdown",
      "source": [
        "c. Info & describe of data in dataframe."
      ],
      "metadata": {
        "id": "9kV5PnAABWfl"
      }
    },
    {
      "cell_type": "code",
      "source": [
        "print(data.info)"
      ],
      "metadata": {
        "colab": {
          "base_uri": "https://localhost:8080/"
        },
        "id": "wxllM63A77HJ",
        "outputId": "a0a6bd06-e87e-4730-fe1e-94ebf67ec386"
      },
      "execution_count": null,
      "outputs": [
        {
          "output_type": "stream",
          "name": "stdout",
          "text": [
            "<bound method DataFrame.info of       iso_code continent     location      date  total_cases  new_cases  \\\n",
            "0          AFG      Asia  Afghanistan  31/12/19          NaN        0.0   \n",
            "1          AFG      Asia  Afghanistan  01/01/20          NaN        0.0   \n",
            "2          AFG      Asia  Afghanistan  02/01/20          NaN        0.0   \n",
            "3          AFG      Asia  Afghanistan  03/01/20          NaN        0.0   \n",
            "4          AFG      Asia  Afghanistan  04/01/20          NaN        0.0   \n",
            "...        ...       ...          ...       ...          ...        ...   \n",
            "50793      TZA    Africa     Tanzania  04/06/20        509.0        0.0   \n",
            "50794      TZA    Africa     Tanzania  05/06/20        509.0        0.0   \n",
            "50795      TZA    Africa     Tanzania  06/06/20        509.0        0.0   \n",
            "50796      TZA    Africa     Tanzania  07/06/20        509.0        0.0   \n",
            "50797      TZA    Africa     Tanzania  08/06/20        509.0        0.0   \n",
            "\n",
            "       new_cases_smoothed  total_deaths  new_deaths  new_deaths_smoothed  ...  \\\n",
            "0                     NaN           NaN         0.0                  NaN  ...   \n",
            "1                     NaN           NaN         0.0                  NaN  ...   \n",
            "2                     NaN           NaN         0.0                  NaN  ...   \n",
            "3                     NaN           NaN         0.0                  NaN  ...   \n",
            "4                     NaN           NaN         0.0                  NaN  ...   \n",
            "...                   ...           ...         ...                  ...  ...   \n",
            "50793                 0.0          21.0         0.0                  0.0  ...   \n",
            "50794                 0.0          21.0         0.0                  0.0  ...   \n",
            "50795                 0.0          21.0         0.0                  0.0  ...   \n",
            "50796                 0.0          21.0         0.0                  0.0  ...   \n",
            "50797                 0.0          21.0         0.0                  0.0  ...   \n",
            "\n",
            "       gdp_per_capita  extreme_poverty  cardiovasc_death_rate  \\\n",
            "0            1803.987              NaN                597.029   \n",
            "1            1803.987              NaN                597.029   \n",
            "2            1803.987              NaN                597.029   \n",
            "3            1803.987              NaN                597.029   \n",
            "4            1803.987              NaN                597.029   \n",
            "...               ...              ...                    ...   \n",
            "50793        2683.304             49.1                217.288   \n",
            "50794        2683.304             49.1                217.288   \n",
            "50795        2683.304             49.1                217.288   \n",
            "50796        2683.304             49.1                217.288   \n",
            "50797        2683.304             49.1                217.288   \n",
            "\n",
            "       diabetes_prevalence  female_smokers  male_smokers  \\\n",
            "0                     9.59             NaN           NaN   \n",
            "1                     9.59             NaN           NaN   \n",
            "2                     9.59             NaN           NaN   \n",
            "3                     9.59             NaN           NaN   \n",
            "4                     9.59             NaN           NaN   \n",
            "...                    ...             ...           ...   \n",
            "50793                 5.75             3.3          26.7   \n",
            "50794                 5.75             3.3          26.7   \n",
            "50795                 5.75             3.3          26.7   \n",
            "50796                 5.75             3.3          26.7   \n",
            "50797                  NaN             NaN           NaN   \n",
            "\n",
            "       handwashing_facilities  hospital_beds_per_thousand  life_expectancy  \\\n",
            "0                      37.746                         0.5            64.83   \n",
            "1                      37.746                         0.5            64.83   \n",
            "2                      37.746                         0.5            64.83   \n",
            "3                      37.746                         0.5            64.83   \n",
            "4                      37.746                         0.5            64.83   \n",
            "...                       ...                         ...              ...   \n",
            "50793                  47.953                         0.7            65.46   \n",
            "50794                  47.953                         0.7            65.46   \n",
            "50795                  47.953                         0.7            65.46   \n",
            "50796                  47.953                         0.7            65.46   \n",
            "50797                     NaN                         NaN              NaN   \n",
            "\n",
            "       human_development_index  \n",
            "0                        0.498  \n",
            "1                        0.498  \n",
            "2                        0.498  \n",
            "3                        0.498  \n",
            "4                        0.498  \n",
            "...                        ...  \n",
            "50793                    0.538  \n",
            "50794                    0.538  \n",
            "50795                    0.538  \n",
            "50796                    0.538  \n",
            "50797                      NaN  \n",
            "\n",
            "[50798 rows x 49 columns]>\n"
          ]
        }
      ]
    },
    {
      "cell_type": "code",
      "source": [
        "print(data.describe)"
      ],
      "metadata": {
        "colab": {
          "base_uri": "https://localhost:8080/"
        },
        "id": "iZFcXSxQ8CYq",
        "outputId": "5e6d1ee3-d8ff-4703-8bca-31d4e62aabd4"
      },
      "execution_count": null,
      "outputs": [
        {
          "output_type": "stream",
          "name": "stdout",
          "text": [
            "<bound method NDFrame.describe of       iso_code continent     location      date  total_cases  new_cases  \\\n",
            "0          AFG      Asia  Afghanistan  31/12/19          NaN        0.0   \n",
            "1          AFG      Asia  Afghanistan  01/01/20          NaN        0.0   \n",
            "2          AFG      Asia  Afghanistan  02/01/20          NaN        0.0   \n",
            "3          AFG      Asia  Afghanistan  03/01/20          NaN        0.0   \n",
            "4          AFG      Asia  Afghanistan  04/01/20          NaN        0.0   \n",
            "...        ...       ...          ...       ...          ...        ...   \n",
            "50793      TZA    Africa     Tanzania  04/06/20        509.0        0.0   \n",
            "50794      TZA    Africa     Tanzania  05/06/20        509.0        0.0   \n",
            "50795      TZA    Africa     Tanzania  06/06/20        509.0        0.0   \n",
            "50796      TZA    Africa     Tanzania  07/06/20        509.0        0.0   \n",
            "50797      TZA    Africa     Tanzania  08/06/20        509.0        0.0   \n",
            "\n",
            "       new_cases_smoothed  total_deaths  new_deaths  new_deaths_smoothed  ...  \\\n",
            "0                     NaN           NaN         0.0                  NaN  ...   \n",
            "1                     NaN           NaN         0.0                  NaN  ...   \n",
            "2                     NaN           NaN         0.0                  NaN  ...   \n",
            "3                     NaN           NaN         0.0                  NaN  ...   \n",
            "4                     NaN           NaN         0.0                  NaN  ...   \n",
            "...                   ...           ...         ...                  ...  ...   \n",
            "50793                 0.0          21.0         0.0                  0.0  ...   \n",
            "50794                 0.0          21.0         0.0                  0.0  ...   \n",
            "50795                 0.0          21.0         0.0                  0.0  ...   \n",
            "50796                 0.0          21.0         0.0                  0.0  ...   \n",
            "50797                 0.0          21.0         0.0                  0.0  ...   \n",
            "\n",
            "       gdp_per_capita  extreme_poverty  cardiovasc_death_rate  \\\n",
            "0            1803.987              NaN                597.029   \n",
            "1            1803.987              NaN                597.029   \n",
            "2            1803.987              NaN                597.029   \n",
            "3            1803.987              NaN                597.029   \n",
            "4            1803.987              NaN                597.029   \n",
            "...               ...              ...                    ...   \n",
            "50793        2683.304             49.1                217.288   \n",
            "50794        2683.304             49.1                217.288   \n",
            "50795        2683.304             49.1                217.288   \n",
            "50796        2683.304             49.1                217.288   \n",
            "50797        2683.304             49.1                217.288   \n",
            "\n",
            "       diabetes_prevalence  female_smokers  male_smokers  \\\n",
            "0                     9.59             NaN           NaN   \n",
            "1                     9.59             NaN           NaN   \n",
            "2                     9.59             NaN           NaN   \n",
            "3                     9.59             NaN           NaN   \n",
            "4                     9.59             NaN           NaN   \n",
            "...                    ...             ...           ...   \n",
            "50793                 5.75             3.3          26.7   \n",
            "50794                 5.75             3.3          26.7   \n",
            "50795                 5.75             3.3          26.7   \n",
            "50796                 5.75             3.3          26.7   \n",
            "50797                  NaN             NaN           NaN   \n",
            "\n",
            "       handwashing_facilities  hospital_beds_per_thousand  life_expectancy  \\\n",
            "0                      37.746                         0.5            64.83   \n",
            "1                      37.746                         0.5            64.83   \n",
            "2                      37.746                         0.5            64.83   \n",
            "3                      37.746                         0.5            64.83   \n",
            "4                      37.746                         0.5            64.83   \n",
            "...                       ...                         ...              ...   \n",
            "50793                  47.953                         0.7            65.46   \n",
            "50794                  47.953                         0.7            65.46   \n",
            "50795                  47.953                         0.7            65.46   \n",
            "50796                  47.953                         0.7            65.46   \n",
            "50797                     NaN                         NaN              NaN   \n",
            "\n",
            "       human_development_index  \n",
            "0                        0.498  \n",
            "1                        0.498  \n",
            "2                        0.498  \n",
            "3                        0.498  \n",
            "4                        0.498  \n",
            "...                        ...  \n",
            "50793                    0.538  \n",
            "50794                    0.538  \n",
            "50795                    0.538  \n",
            "50796                    0.538  \n",
            "50797                      NaN  \n",
            "\n",
            "[50798 rows x 49 columns]>\n"
          ]
        }
      ]
    },
    {
      "cell_type": "markdown",
      "source": [
        "3. Low Level Data Understanding :"
      ],
      "metadata": {
        "id": "9bGUXHOIBe7Z"
      }
    },
    {
      "cell_type": "markdown",
      "source": [
        "a. Find count of unique values in location column."
      ],
      "metadata": {
        "id": "STUaeCwoBvWK"
      }
    },
    {
      "cell_type": "code",
      "source": [
        "print(data['new_deaths'].nunique)"
      ],
      "metadata": {
        "colab": {
          "base_uri": "https://localhost:8080/"
        },
        "id": "kWEu7nl18Lrm",
        "outputId": "049254f6-4572-478d-e0e6-8d053e9f2213"
      },
      "execution_count": null,
      "outputs": [
        {
          "output_type": "stream",
          "name": "stdout",
          "text": [
            "<bound method IndexOpsMixin.nunique of 0        0.0\n",
            "1        0.0\n",
            "2        0.0\n",
            "3        0.0\n",
            "4        0.0\n",
            "        ... \n",
            "50793    0.0\n",
            "50794    0.0\n",
            "50795    0.0\n",
            "50796    0.0\n",
            "50797    0.0\n",
            "Name: new_deaths, Length: 50798, dtype: float64>\n"
          ]
        }
      ]
    },
    {
      "cell_type": "code",
      "source": [
        "print(data.nunique)"
      ],
      "metadata": {
        "colab": {
          "base_uri": "https://localhost:8080/"
        },
        "id": "zg79B_Mb8RZ7",
        "outputId": "0c2dba70-4507-4892-e3c4-4551f56bea88"
      },
      "execution_count": null,
      "outputs": [
        {
          "output_type": "stream",
          "name": "stdout",
          "text": [
            "<bound method DataFrame.nunique of       iso_code continent     location      date  total_cases  new_cases  \\\n",
            "0          AFG      Asia  Afghanistan  31/12/19          NaN        0.0   \n",
            "1          AFG      Asia  Afghanistan  01/01/20          NaN        0.0   \n",
            "2          AFG      Asia  Afghanistan  02/01/20          NaN        0.0   \n",
            "3          AFG      Asia  Afghanistan  03/01/20          NaN        0.0   \n",
            "4          AFG      Asia  Afghanistan  04/01/20          NaN        0.0   \n",
            "...        ...       ...          ...       ...          ...        ...   \n",
            "50793      TZA    Africa     Tanzania  04/06/20        509.0        0.0   \n",
            "50794      TZA    Africa     Tanzania  05/06/20        509.0        0.0   \n",
            "50795      TZA    Africa     Tanzania  06/06/20        509.0        0.0   \n",
            "50796      TZA    Africa     Tanzania  07/06/20        509.0        0.0   \n",
            "50797      TZA    Africa     Tanzania  08/06/20        509.0        0.0   \n",
            "\n",
            "       new_cases_smoothed  total_deaths  new_deaths  new_deaths_smoothed  ...  \\\n",
            "0                     NaN           NaN         0.0                  NaN  ...   \n",
            "1                     NaN           NaN         0.0                  NaN  ...   \n",
            "2                     NaN           NaN         0.0                  NaN  ...   \n",
            "3                     NaN           NaN         0.0                  NaN  ...   \n",
            "4                     NaN           NaN         0.0                  NaN  ...   \n",
            "...                   ...           ...         ...                  ...  ...   \n",
            "50793                 0.0          21.0         0.0                  0.0  ...   \n",
            "50794                 0.0          21.0         0.0                  0.0  ...   \n",
            "50795                 0.0          21.0         0.0                  0.0  ...   \n",
            "50796                 0.0          21.0         0.0                  0.0  ...   \n",
            "50797                 0.0          21.0         0.0                  0.0  ...   \n",
            "\n",
            "       gdp_per_capita  extreme_poverty  cardiovasc_death_rate  \\\n",
            "0            1803.987              NaN                597.029   \n",
            "1            1803.987              NaN                597.029   \n",
            "2            1803.987              NaN                597.029   \n",
            "3            1803.987              NaN                597.029   \n",
            "4            1803.987              NaN                597.029   \n",
            "...               ...              ...                    ...   \n",
            "50793        2683.304             49.1                217.288   \n",
            "50794        2683.304             49.1                217.288   \n",
            "50795        2683.304             49.1                217.288   \n",
            "50796        2683.304             49.1                217.288   \n",
            "50797        2683.304             49.1                217.288   \n",
            "\n",
            "       diabetes_prevalence  female_smokers  male_smokers  \\\n",
            "0                     9.59             NaN           NaN   \n",
            "1                     9.59             NaN           NaN   \n",
            "2                     9.59             NaN           NaN   \n",
            "3                     9.59             NaN           NaN   \n",
            "4                     9.59             NaN           NaN   \n",
            "...                    ...             ...           ...   \n",
            "50793                 5.75             3.3          26.7   \n",
            "50794                 5.75             3.3          26.7   \n",
            "50795                 5.75             3.3          26.7   \n",
            "50796                 5.75             3.3          26.7   \n",
            "50797                  NaN             NaN           NaN   \n",
            "\n",
            "       handwashing_facilities  hospital_beds_per_thousand  life_expectancy  \\\n",
            "0                      37.746                         0.5            64.83   \n",
            "1                      37.746                         0.5            64.83   \n",
            "2                      37.746                         0.5            64.83   \n",
            "3                      37.746                         0.5            64.83   \n",
            "4                      37.746                         0.5            64.83   \n",
            "...                       ...                         ...              ...   \n",
            "50793                  47.953                         0.7            65.46   \n",
            "50794                  47.953                         0.7            65.46   \n",
            "50795                  47.953                         0.7            65.46   \n",
            "50796                  47.953                         0.7            65.46   \n",
            "50797                     NaN                         NaN              NaN   \n",
            "\n",
            "       human_development_index  \n",
            "0                        0.498  \n",
            "1                        0.498  \n",
            "2                        0.498  \n",
            "3                        0.498  \n",
            "4                        0.498  \n",
            "...                        ...  \n",
            "50793                    0.538  \n",
            "50794                    0.538  \n",
            "50795                    0.538  \n",
            "50796                    0.538  \n",
            "50797                      NaN  \n",
            "\n",
            "[50798 rows x 49 columns]>\n"
          ]
        }
      ]
    },
    {
      "cell_type": "markdown",
      "source": [
        "b. Find which continent has maximum frequency using values\n",
        "counts."
      ],
      "metadata": {
        "id": "YpW4iYBFH9Ym"
      }
    },
    {
      "cell_type": "code",
      "source": [
        "Maximum_Frequency=data['continent'].value_counts()"
      ],
      "metadata": {
        "id": "c1EiHSMi8cxX"
      },
      "execution_count": null,
      "outputs": []
    },
    {
      "cell_type": "code",
      "source": [
        "Maximum_Frequency_continent=Maximum_Frequency.idxmax()"
      ],
      "metadata": {
        "id": "L3FaCZCdIGhe"
      },
      "execution_count": null,
      "outputs": []
    },
    {
      "cell_type": "code",
      "source": [
        "print(Maximum_Frequency_continent,Maximum_Frequency.max())"
      ],
      "metadata": {
        "colab": {
          "base_uri": "https://localhost:8080/"
        },
        "id": "IKCop6vDIMzy",
        "outputId": "520b1b2b-753f-435b-b50c-a5c778e529d4"
      },
      "execution_count": null,
      "outputs": [
        {
          "output_type": "stream",
          "name": "stdout",
          "text": [
            "Europe 14000\n"
          ]
        }
      ]
    },
    {
      "cell_type": "markdown",
      "source": [
        "c. Find maximum & mean value in 'total_cases'."
      ],
      "metadata": {
        "id": "x4l0BF7LIdtR"
      }
    },
    {
      "cell_type": "code",
      "source": [
        "print(\"Maximum Value\",data['total_cases'].max)"
      ],
      "metadata": {
        "colab": {
          "base_uri": "https://localhost:8080/"
        },
        "id": "v6UPA0EOIXbj",
        "outputId": "2d8dd6ed-d8dd-401b-aba9-8a7c06f095d5"
      },
      "execution_count": null,
      "outputs": [
        {
          "output_type": "stream",
          "name": "stdout",
          "text": [
            "Maximum Value <bound method Series.max of 0          NaN\n",
            "1          NaN\n",
            "2          NaN\n",
            "3          NaN\n",
            "4          NaN\n",
            "         ...  \n",
            "50793    509.0\n",
            "50794    509.0\n",
            "50795    509.0\n",
            "50796    509.0\n",
            "50797    509.0\n",
            "Name: total_cases, Length: 50798, dtype: float64>\n"
          ]
        }
      ]
    },
    {
      "cell_type": "code",
      "source": [
        "print(\"Mean\",data['total_cases'].mean)"
      ],
      "metadata": {
        "colab": {
          "base_uri": "https://localhost:8080/"
        },
        "id": "ngWVBnCuIsqN",
        "outputId": "3b441a01-bf4e-42be-df56-671e768f769d"
      },
      "execution_count": null,
      "outputs": [
        {
          "output_type": "stream",
          "name": "stdout",
          "text": [
            "Mean <bound method Series.mean of 0          NaN\n",
            "1          NaN\n",
            "2          NaN\n",
            "3          NaN\n",
            "4          NaN\n",
            "         ...  \n",
            "50793    509.0\n",
            "50794    509.0\n",
            "50795    509.0\n",
            "50796    509.0\n",
            "50797    509.0\n",
            "Name: total_cases, Length: 50798, dtype: float64>\n"
          ]
        }
      ]
    },
    {
      "cell_type": "markdown",
      "source": [
        "d. Find 25%,50% & 75% quartile value in 'total_deaths'."
      ],
      "metadata": {
        "id": "6DofreRaJD3Q"
      }
    },
    {
      "cell_type": "code",
      "source": [
        "print(data['total_deaths'].describe(percentiles=[.25,.50,.75]))"
      ],
      "metadata": {
        "colab": {
          "base_uri": "https://localhost:8080/"
        },
        "id": "sJwUlBQzI9HD",
        "outputId": "35e5aa4d-a946-4f42-f271-139d6e474048"
      },
      "execution_count": null,
      "outputs": [
        {
          "output_type": "stream",
          "name": "stdout",
          "text": [
            "count     39186.000000\n",
            "mean       2753.418823\n",
            "std       11172.750119\n",
            "min           1.000000\n",
            "25%          13.000000\n",
            "50%          89.000000\n",
            "75%         740.000000\n",
            "max      166014.000000\n",
            "Name: total_deaths, dtype: float64\n"
          ]
        }
      ]
    },
    {
      "cell_type": "markdown",
      "source": [
        "e. Find which continent has maximum\n",
        "'human_development_index'."
      ],
      "metadata": {
        "id": "eLLJajaKJTrD"
      }
    },
    {
      "cell_type": "code",
      "source": [
        "df=data.groupby('continent')['human_development_index'].max()\n",
        "continent=df.idxmax()\n",
        "df1=df.max()\n",
        "print(continent,df1)"
      ],
      "metadata": {
        "colab": {
          "base_uri": "https://localhost:8080/"
        },
        "id": "PLtqGn-QJKVy",
        "outputId": "cf14f3b9-dba5-47b5-ea22-ed1185dec4ab"
      },
      "execution_count": null,
      "outputs": [
        {
          "output_type": "stream",
          "name": "stdout",
          "text": [
            "Europe 0.953\n"
          ]
        }
      ]
    },
    {
      "cell_type": "markdown",
      "source": [
        "f. Find which continent has minimum 'gdp_per_capita'."
      ],
      "metadata": {
        "id": "SOwrGGsEJsEK"
      }
    },
    {
      "cell_type": "code",
      "source": [
        "df2=data.groupby('continent')['gdp_per_capita'].min()\n",
        "continent1=df2.idxmin()\n",
        "mini=df2.min()\n"
      ],
      "metadata": {
        "id": "5PbVzEqzJlne"
      },
      "execution_count": null,
      "outputs": []
    },
    {
      "cell_type": "code",
      "source": [
        "print(continent1,mini)"
      ],
      "metadata": {
        "colab": {
          "base_uri": "https://localhost:8080/"
        },
        "id": "oBcglf_VKBUX",
        "outputId": "bb36abfe-47ff-4a5a-d3f8-de276ef9695b"
      },
      "execution_count": null,
      "outputs": [
        {
          "output_type": "stream",
          "name": "stdout",
          "text": [
            "Africa 661.24\n"
          ]
        }
      ]
    },
    {
      "cell_type": "markdown",
      "source": [
        "4. Filter the dataframe with only this columns['continent','location','date','total_cases','total_deaths','gdp_per_ca\n",
        "pita','human_development_index'] and update the data frame."
      ],
      "metadata": {
        "id": "MCER-8_PMoFH"
      }
    },
    {
      "cell_type": "code",
      "source": [
        "tokeep=['continent','location','date','total_cases','total_deaths','gdp_per_capita','human_development_index']\n",
        "df=data[tokeep]\n",
        "print(df)"
      ],
      "metadata": {
        "id": "rdlXiSczKHVd",
        "colab": {
          "base_uri": "https://localhost:8080/"
        },
        "outputId": "7e831619-d076-4061-87b2-b52b1f65b982"
      },
      "execution_count": 19,
      "outputs": [
        {
          "output_type": "stream",
          "name": "stdout",
          "text": [
            "      continent     location      date  total_cases  total_deaths  \\\n",
            "0          Asia  Afghanistan  31/12/19          NaN           NaN   \n",
            "1          Asia  Afghanistan  01/01/20          NaN           NaN   \n",
            "2          Asia  Afghanistan  02/01/20          NaN           NaN   \n",
            "3          Asia  Afghanistan  03/01/20          NaN           NaN   \n",
            "4          Asia  Afghanistan  04/01/20          NaN           NaN   \n",
            "...         ...          ...       ...          ...           ...   \n",
            "50793    Africa     Tanzania  04/06/20        509.0          21.0   \n",
            "50794    Africa     Tanzania  05/06/20        509.0          21.0   \n",
            "50795    Africa     Tanzania  06/06/20        509.0          21.0   \n",
            "50796    Africa     Tanzania  07/06/20        509.0          21.0   \n",
            "50797    Africa     Tanzania  08/06/20        509.0          21.0   \n",
            "\n",
            "       gdp_per_capita  human_development_index  \n",
            "0            1803.987                    0.498  \n",
            "1            1803.987                    0.498  \n",
            "2            1803.987                    0.498  \n",
            "3            1803.987                    0.498  \n",
            "4            1803.987                    0.498  \n",
            "...               ...                      ...  \n",
            "50793        2683.304                    0.538  \n",
            "50794        2683.304                    0.538  \n",
            "50795        2683.304                    0.538  \n",
            "50796        2683.304                    0.538  \n",
            "50797        2683.304                      NaN  \n",
            "\n",
            "[50798 rows x 7 columns]\n"
          ]
        }
      ]
    },
    {
      "cell_type": "markdown",
      "source": [
        "5. Data Cleaning"
      ],
      "metadata": {
        "id": "wNmI5dAKPWNS"
      }
    },
    {
      "cell_type": "code",
      "source": [
        "df_cleaned=df.drop_duplicates()\n",
        "df_3=df_cleaned.isna().sum()\n",
        "df_cleaned = df_cleaned.dropna(subset=['continent'])\n",
        "df_cleaned=df_cleaned.fillna(0)\n",
        "print(df_cleaned)"
      ],
      "metadata": {
        "colab": {
          "base_uri": "https://localhost:8080/"
        },
        "id": "5vUG6dgtPRQW",
        "outputId": "00473985-3554-40c1-88ae-1ac9437cf689"
      },
      "execution_count": 22,
      "outputs": [
        {
          "output_type": "stream",
          "name": "stdout",
          "text": [
            "      continent     location      date  total_cases  total_deaths  \\\n",
            "0          Asia  Afghanistan  31/12/19          0.0           0.0   \n",
            "1          Asia  Afghanistan  01/01/20          0.0           0.0   \n",
            "2          Asia  Afghanistan  02/01/20          0.0           0.0   \n",
            "3          Asia  Afghanistan  03/01/20          0.0           0.0   \n",
            "4          Asia  Afghanistan  04/01/20          0.0           0.0   \n",
            "...         ...          ...       ...          ...           ...   \n",
            "50793    Africa     Tanzania  04/06/20        509.0          21.0   \n",
            "50794    Africa     Tanzania  05/06/20        509.0          21.0   \n",
            "50795    Africa     Tanzania  06/06/20        509.0          21.0   \n",
            "50796    Africa     Tanzania  07/06/20        509.0          21.0   \n",
            "50797    Africa     Tanzania  08/06/20        509.0          21.0   \n",
            "\n",
            "       gdp_per_capita  human_development_index  \n",
            "0            1803.987                    0.498  \n",
            "1            1803.987                    0.498  \n",
            "2            1803.987                    0.498  \n",
            "3            1803.987                    0.498  \n",
            "4            1803.987                    0.498  \n",
            "...               ...                      ...  \n",
            "50793        2683.304                    0.538  \n",
            "50794        2683.304                    0.538  \n",
            "50795        2683.304                    0.538  \n",
            "50796        2683.304                    0.538  \n",
            "50797        2683.304                    0.000  \n",
            "\n",
            "[50798 rows x 7 columns]\n"
          ]
        }
      ]
    },
    {
      "cell_type": "markdown",
      "source": [
        "6. Date time format :"
      ],
      "metadata": {
        "id": "-NgQ5mErQJap"
      }
    },
    {
      "cell_type": "markdown",
      "source": [
        "a. Convert date column in datetime format using pandas.to_datetime"
      ],
      "metadata": {
        "id": "fyf_vnNSQbEc"
      }
    },
    {
      "cell_type": "code",
      "source": [
        "df_cleaned['date'] = pd.to_datetime(df_cleaned['date'], errors='coerce')"
      ],
      "metadata": {
        "colab": {
          "base_uri": "https://localhost:8080/"
        },
        "id": "WpdKsQA2PhmE",
        "outputId": "67443f45-df87-4df2-dfa5-622f7191155d"
      },
      "execution_count": 23,
      "outputs": [
        {
          "output_type": "stream",
          "name": "stderr",
          "text": [
            "<ipython-input-23-ba3a932a7dc0>:1: UserWarning: Could not infer format, so each element will be parsed individually, falling back to `dateutil`. To ensure parsing is consistent and as-expected, please specify a format.\n",
            "  df_cleaned['date'] = pd.to_datetime(df_cleaned['date'], errors='coerce')\n"
          ]
        }
      ]
    },
    {
      "cell_type": "code",
      "source": [
        "print(df_cleaned['date'])"
      ],
      "metadata": {
        "colab": {
          "base_uri": "https://localhost:8080/"
        },
        "id": "8cMhQ4qkQiAn",
        "outputId": "f902e4c9-3a92-4ba8-8230-3e6ce56c5024"
      },
      "execution_count": 24,
      "outputs": [
        {
          "output_type": "stream",
          "name": "stdout",
          "text": [
            "0       2019-12-31\n",
            "1       2020-01-01\n",
            "2       2020-02-01\n",
            "3       2020-03-01\n",
            "4       2020-04-01\n",
            "           ...    \n",
            "50793   2020-04-06\n",
            "50794   2020-05-06\n",
            "50795   2020-06-06\n",
            "50796   2020-07-06\n",
            "50797   2020-08-06\n",
            "Name: date, Length: 50798, dtype: datetime64[ns]\n"
          ]
        }
      ]
    },
    {
      "cell_type": "markdown",
      "source": [
        "b. Create new column month after extracting month data from date column."
      ],
      "metadata": {
        "id": "XH90CH6AQuum"
      }
    },
    {
      "cell_type": "code",
      "source": [
        "df_cleaned['month']=df_cleaned['date'].dt.month\n",
        "print(\"New Extracted Month Column\",df_cleaned['month'])"
      ],
      "metadata": {
        "colab": {
          "base_uri": "https://localhost:8080/"
        },
        "id": "-VBZoQjnQmVn",
        "outputId": "34451541-d5ef-43fb-fa7a-2abbc24d5146"
      },
      "execution_count": 26,
      "outputs": [
        {
          "output_type": "stream",
          "name": "stdout",
          "text": [
            "New Extracted Month Column 0        12\n",
            "1         1\n",
            "2         2\n",
            "3         3\n",
            "4         4\n",
            "         ..\n",
            "50793     4\n",
            "50794     5\n",
            "50795     6\n",
            "50796     7\n",
            "50797     8\n",
            "Name: month, Length: 50798, dtype: int32\n"
          ]
        }
      ]
    },
    {
      "cell_type": "markdown",
      "source": [
        "7. Data Aggregation:"
      ],
      "metadata": {
        "id": "_OAVkSNHRGZ6"
      }
    },
    {
      "cell_type": "code",
      "source": [
        "df_groupby=df_cleaned.groupby('continent').max()\n",
        "print(df_groupby.reset_index())"
      ],
      "metadata": {
        "colab": {
          "base_uri": "https://localhost:8080/"
        },
        "id": "-V1bL5EEQ-AZ",
        "outputId": "d3ceb20d-f272-4d47-b22b-9f219b1b6a49"
      },
      "execution_count": 27,
      "outputs": [
        {
          "output_type": "stream",
          "name": "stdout",
          "text": [
            "       continent                   location       date  total_cases  \\\n",
            "0         Africa                   Tanzania 2020-12-11     752269.0   \n",
            "1           Asia                 Tajikistan 2020-12-11    8874290.0   \n",
            "2         Europe                Switzerland 2020-12-11    1991233.0   \n",
            "3  North America  Sint Maarten (Dutch part) 2020-12-11    1009396.0   \n",
            "4        Oceania            Solomon Islands 2020-12-11      27750.0   \n",
            "5  South America                   Suriname 2020-12-11    5876464.0   \n",
            "\n",
            "   total_deaths  gdp_per_capita  human_development_index  month  \n",
            "0       20314.0       26382.287                    0.797     12  \n",
            "1      130519.0      116935.600                    0.933     12  \n",
            "2       45733.0       94277.965                    0.953     12  \n",
            "3       98861.0       50669.315                    0.926     12  \n",
            "4         907.0       44648.710                    0.939     12  \n",
            "5      166014.0       22767.037                    0.843     12  \n"
          ]
        }
      ]
    },
    {
      "cell_type": "markdown",
      "source": [
        "8. Feature Engineering :"
      ],
      "metadata": {
        "id": "vdjVyjeyRtCl"
      }
    },
    {
      "cell_type": "markdown",
      "source": [
        "Create a new feature 'total_deaths_to_total_cases' by ratio of\n",
        "'total_deaths' column to 'total_cases'"
      ],
      "metadata": {
        "id": "u7fIx36WRxCn"
      }
    },
    {
      "cell_type": "markdown",
      "source": [
        "# Assuming your data is in a CSV file named 'your_data.csv'\n",
        "# Replace 'your_data.csv' with the actual file path"
      ],
      "metadata": {
        "id": "jBz36gihR7wO"
      }
    },
    {
      "cell_type": "code",
      "source": [
        "df_cleaned = pd.read_csv('covid data.csv') # Added a space in the file name"
      ],
      "metadata": {
        "id": "3V2HZP7ORYcg"
      },
      "execution_count": 29,
      "outputs": []
    },
    {
      "cell_type": "markdown",
      "source": [
        "# If you have the data in a different format, use the appropriate pandas function to load it."
      ],
      "metadata": {
        "id": "W9VvwZeXSpte"
      }
    },
    {
      "cell_type": "markdown",
      "source": [
        "For example, if you have a list of lists, you can use:\n",
        "df_cleaned = pd.DataFrame(your_data, columns=['column1', 'column2', ...])"
      ],
      "metadata": {
        "id": "kvM7rBKVSuEm"
      }
    },
    {
      "cell_type": "code",
      "source": [
        "df_cleaned['date'] = pd.to_datetime(df_cleaned['date'], errors='coerce')"
      ],
      "metadata": {
        "colab": {
          "base_uri": "https://localhost:8080/"
        },
        "id": "V6jweAM_SOQt",
        "outputId": "978ea771-9369-452e-fa76-d803dfa0db7a"
      },
      "execution_count": 30,
      "outputs": [
        {
          "output_type": "stream",
          "name": "stderr",
          "text": [
            "<ipython-input-30-ba3a932a7dc0>:1: UserWarning: Could not infer format, so each element will be parsed individually, falling back to `dateutil`. To ensure parsing is consistent and as-expected, please specify a format.\n",
            "  df_cleaned['date'] = pd.to_datetime(df_cleaned['date'], errors='coerce')\n"
          ]
        }
      ]
    },
    {
      "cell_type": "code",
      "source": [
        "print(df_cleaned['date'])"
      ],
      "metadata": {
        "colab": {
          "base_uri": "https://localhost:8080/"
        },
        "id": "681j2jPZS-Sv",
        "outputId": "a23138c9-8f74-4252-960c-31d768d1594a"
      },
      "execution_count": 31,
      "outputs": [
        {
          "output_type": "stream",
          "name": "stdout",
          "text": [
            "0       2019-12-31\n",
            "1       2020-01-01\n",
            "2       2020-02-01\n",
            "3       2020-03-01\n",
            "4       2020-04-01\n",
            "           ...    \n",
            "57389   2020-11-13\n",
            "57390   2020-11-14\n",
            "57391   2020-11-15\n",
            "57392   2020-11-16\n",
            "57393   2020-11-17\n",
            "Name: date, Length: 57394, dtype: datetime64[ns]\n"
          ]
        }
      ]
    },
    {
      "cell_type": "code",
      "source": [
        "df_cleaned['month']=df_cleaned['date'].dt.month"
      ],
      "metadata": {
        "id": "LezdCErVTBwM"
      },
      "execution_count": 32,
      "outputs": []
    },
    {
      "cell_type": "code",
      "source": [
        "print(\"New Extracted Month Column\",df_cleaned['month'])"
      ],
      "metadata": {
        "colab": {
          "base_uri": "https://localhost:8080/"
        },
        "id": "3S2mA-54TF4P",
        "outputId": "727b5632-c1b6-4fca-9691-6a5c1cf9188c"
      },
      "execution_count": 33,
      "outputs": [
        {
          "output_type": "stream",
          "name": "stdout",
          "text": [
            "New Extracted Month Column 0        12\n",
            "1         1\n",
            "2         2\n",
            "3         3\n",
            "4         4\n",
            "         ..\n",
            "57389    11\n",
            "57390    11\n",
            "57391    11\n",
            "57392    11\n",
            "57393    11\n",
            "Name: month, Length: 57394, dtype: int32\n"
          ]
        }
      ]
    },
    {
      "cell_type": "code",
      "source": [
        "df_groupby=df_cleaned.groupby('continent').max()"
      ],
      "metadata": {
        "id": "nkXenLz-TVLl"
      },
      "execution_count": 34,
      "outputs": []
    },
    {
      "cell_type": "code",
      "source": [
        "print(df_groupby.reset_index())"
      ],
      "metadata": {
        "colab": {
          "base_uri": "https://localhost:8080/"
        },
        "id": "liMatMlITamp",
        "outputId": "ea303eb3-7b09-45fd-f832-d8b9171dc15d"
      },
      "execution_count": 35,
      "outputs": [
        {
          "output_type": "stream",
          "name": "stdout",
          "text": [
            "       continent iso_code                      location       date  \\\n",
            "0         Africa      ZWE                      Zimbabwe 2020-12-11   \n",
            "1           Asia      YEM                         Yemen 2020-12-11   \n",
            "2         Europe      VAT                       Vatican 2020-12-11   \n",
            "3  North America      VIR  United States Virgin Islands 2020-12-11   \n",
            "4        Oceania      WLF             Wallis and Futuna 2020-12-11   \n",
            "5  South America      VEN                     Venezuela 2020-12-11   \n",
            "\n",
            "   total_cases  new_cases  new_cases_smoothed  total_deaths  new_deaths  \\\n",
            "0     752269.0    13944.0           12583.714       20314.0       572.0   \n",
            "1    8874290.0    97894.0           93198.571      130519.0      2003.0   \n",
            "2    1991233.0    86852.0           54868.571       52147.0      2004.0   \n",
            "3   11205486.0   184813.0          156419.143      247220.0      4928.0   \n",
            "4      27750.0     1384.0             551.714         907.0        59.0   \n",
            "5    5876464.0    69074.0           46393.000      166014.0      3935.0   \n",
            "\n",
            "   new_deaths_smoothed  ...  extreme_poverty  cardiovasc_death_rate  \\\n",
            "0              297.429  ...             77.6                525.432   \n",
            "1             1168.000  ...             30.3                724.417   \n",
            "2             1101.000  ...              5.7                539.849   \n",
            "3             2715.143  ...             23.5                430.548   \n",
            "4               22.000  ...             25.1                561.494   \n",
            "5             1096.714  ...              7.1                373.159   \n",
            "\n",
            "   diabetes_prevalence  female_smokers  male_smokers  handwashing_facilities  \\\n",
            "0                22.02             9.7          65.8                  89.827   \n",
            "1                17.72            26.9          78.1                  98.999   \n",
            "2                10.08            44.0          58.3                  97.719   \n",
            "3                17.11            19.1          53.3                  90.650   \n",
            "4                30.53            23.5          48.8                  82.502   \n",
            "5                12.54            34.2          42.9                  80.635   \n",
            "\n",
            "   hospital_beds_per_thousand  life_expectancy  human_development_index  month  \n",
            "0                        6.30            76.88                    0.797     12  \n",
            "1                       13.05            84.86                    0.933     12  \n",
            "2                       13.80            86.75                    0.953     12  \n",
            "3                        5.80            83.92                    0.926     12  \n",
            "4                        3.84            83.44                    0.939     12  \n",
            "5                        5.00            81.44                    0.843     12  \n",
            "\n",
            "[6 rows x 50 columns]\n"
          ]
        }
      ]
    },
    {
      "cell_type": "code",
      "source": [
        "df_groupby['totaldeaths_totalcases']=df_groupby['total_deaths']/df_groupby['total_cases']"
      ],
      "metadata": {
        "id": "yw3VfGFOTdtL"
      },
      "execution_count": 36,
      "outputs": []
    },
    {
      "cell_type": "code",
      "source": [
        "print(df_groupby['totaldeaths_totalcases'])"
      ],
      "metadata": {
        "colab": {
          "base_uri": "https://localhost:8080/"
        },
        "id": "d3PzdzUQTza8",
        "outputId": "5c0224f5-ba71-49d6-b090-33cf42c57b28"
      },
      "execution_count": 37,
      "outputs": [
        {
          "output_type": "stream",
          "name": "stdout",
          "text": [
            "continent\n",
            "Africa           0.027004\n",
            "Asia             0.014708\n",
            "Europe           0.026188\n",
            "North America    0.022062\n",
            "Oceania          0.032685\n",
            "South America    0.028251\n",
            "Name: totaldeaths_totalcases, dtype: float64\n"
          ]
        }
      ]
    },
    {
      "cell_type": "markdown",
      "source": [
        "# Load the data"
      ],
      "metadata": {
        "id": "7NFAaj4lT_Gi"
      }
    },
    {
      "cell_type": "code",
      "source": [
        "df_cleaned = pd.read_csv('covid data.csv')"
      ],
      "metadata": {
        "id": "yQuUyh1nT2kN"
      },
      "execution_count": 41,
      "outputs": []
    },
    {
      "cell_type": "markdown",
      "source": [
        "Convert 'date' column to datetime"
      ],
      "metadata": {
        "id": "XHb420A2Uz9y"
      }
    },
    {
      "cell_type": "code",
      "source": [
        "df_cleaned['date'] = pd.to_datetime(df_cleaned['date'], errors='coerce')\n",
        "print(df_cleaned['date'])"
      ],
      "metadata": {
        "colab": {
          "base_uri": "https://localhost:8080/"
        },
        "id": "neq4s8_yUDMP",
        "outputId": "ce0b5231-087c-4ee3-de0d-a09d56fa4d75"
      },
      "execution_count": 42,
      "outputs": [
        {
          "output_type": "stream",
          "name": "stdout",
          "text": [
            "0       2019-12-31\n",
            "1       2020-01-01\n",
            "2       2020-02-01\n",
            "3       2020-03-01\n",
            "4       2020-04-01\n",
            "           ...    \n",
            "57389   2020-11-13\n",
            "57390   2020-11-14\n",
            "57391   2020-11-15\n",
            "57392   2020-11-16\n",
            "57393   2020-11-17\n",
            "Name: date, Length: 57394, dtype: datetime64[ns]\n"
          ]
        },
        {
          "output_type": "stream",
          "name": "stderr",
          "text": [
            "<ipython-input-42-3aa3f2ac1bfa>:1: UserWarning: Could not infer format, so each element will be parsed individually, falling back to `dateutil`. To ensure parsing is consistent and as-expected, please specify a format.\n",
            "  df_cleaned['date'] = pd.to_datetime(df_cleaned['date'], errors='coerce')\n"
          ]
        }
      ]
    },
    {
      "cell_type": "markdown",
      "source": [
        "Extract month from 'date'"
      ],
      "metadata": {
        "id": "2DeJWbzgVFCG"
      }
    },
    {
      "cell_type": "code",
      "source": [
        "df_cleaned['month'] = df_cleaned['date'].dt.month\n",
        "print(\"New Extracted Month Column\", df_cleaned['month'])"
      ],
      "metadata": {
        "colab": {
          "base_uri": "https://localhost:8080/"
        },
        "id": "3_GN4jPpVBSw",
        "outputId": "6e1f65e8-037f-421c-b0f9-eba560d92775"
      },
      "execution_count": 43,
      "outputs": [
        {
          "output_type": "stream",
          "name": "stdout",
          "text": [
            "New Extracted Month Column 0        12\n",
            "1         1\n",
            "2         2\n",
            "3         3\n",
            "4         4\n",
            "         ..\n",
            "57389    11\n",
            "57390    11\n",
            "57391    11\n",
            "57392    11\n",
            "57393    11\n",
            "Name: month, Length: 57394, dtype: int32\n"
          ]
        }
      ]
    },
    {
      "cell_type": "markdown",
      "source": [
        "# Group by 'continent' and get the maximum values"
      ],
      "metadata": {
        "id": "KiJ0D8U_VbcJ"
      }
    },
    {
      "cell_type": "code",
      "source": [
        "df_groupby = df_cleaned.groupby('continent').max()"
      ],
      "metadata": {
        "id": "eyrVCEjNVWiZ"
      },
      "execution_count": 44,
      "outputs": []
    },
    {
      "cell_type": "code",
      "source": [
        "print(df_groupby.reset_index())"
      ],
      "metadata": {
        "colab": {
          "base_uri": "https://localhost:8080/"
        },
        "id": "_eAVCWoMVfcK",
        "outputId": "48fed8e5-931a-47cf-c030-c2cb84ecd5ae"
      },
      "execution_count": 45,
      "outputs": [
        {
          "output_type": "stream",
          "name": "stdout",
          "text": [
            "       continent iso_code                      location       date  \\\n",
            "0         Africa      ZWE                      Zimbabwe 2020-12-11   \n",
            "1           Asia      YEM                         Yemen 2020-12-11   \n",
            "2         Europe      VAT                       Vatican 2020-12-11   \n",
            "3  North America      VIR  United States Virgin Islands 2020-12-11   \n",
            "4        Oceania      WLF             Wallis and Futuna 2020-12-11   \n",
            "5  South America      VEN                     Venezuela 2020-12-11   \n",
            "\n",
            "   total_cases  new_cases  new_cases_smoothed  total_deaths  new_deaths  \\\n",
            "0     752269.0    13944.0           12583.714       20314.0       572.0   \n",
            "1    8874290.0    97894.0           93198.571      130519.0      2003.0   \n",
            "2    1991233.0    86852.0           54868.571       52147.0      2004.0   \n",
            "3   11205486.0   184813.0          156419.143      247220.0      4928.0   \n",
            "4      27750.0     1384.0             551.714         907.0        59.0   \n",
            "5    5876464.0    69074.0           46393.000      166014.0      3935.0   \n",
            "\n",
            "   new_deaths_smoothed  ...  extreme_poverty  cardiovasc_death_rate  \\\n",
            "0              297.429  ...             77.6                525.432   \n",
            "1             1168.000  ...             30.3                724.417   \n",
            "2             1101.000  ...              5.7                539.849   \n",
            "3             2715.143  ...             23.5                430.548   \n",
            "4               22.000  ...             25.1                561.494   \n",
            "5             1096.714  ...              7.1                373.159   \n",
            "\n",
            "   diabetes_prevalence  female_smokers  male_smokers  handwashing_facilities  \\\n",
            "0                22.02             9.7          65.8                  89.827   \n",
            "1                17.72            26.9          78.1                  98.999   \n",
            "2                10.08            44.0          58.3                  97.719   \n",
            "3                17.11            19.1          53.3                  90.650   \n",
            "4                30.53            23.5          48.8                  82.502   \n",
            "5                12.54            34.2          42.9                  80.635   \n",
            "\n",
            "   hospital_beds_per_thousand  life_expectancy  human_development_index  month  \n",
            "0                        6.30            76.88                    0.797     12  \n",
            "1                       13.05            84.86                    0.933     12  \n",
            "2                       13.80            86.75                    0.953     12  \n",
            "3                        5.80            83.92                    0.926     12  \n",
            "4                        3.84            83.44                    0.939     12  \n",
            "5                        5.00            81.44                    0.843     12  \n",
            "\n",
            "[6 rows x 50 columns]\n"
          ]
        }
      ]
    },
    {
      "cell_type": "markdown",
      "source": [
        "Calculate 'totaldeaths_totalcases"
      ],
      "metadata": {
        "id": "mdcsXt15VpZK"
      }
    },
    {
      "cell_type": "code",
      "source": [
        "df_groupby['totaldeaths_totalcases'] = df_groupby['total_deaths'] / df_groupby['total_cases']"
      ],
      "metadata": {
        "id": "45MlikDxVkuc"
      },
      "execution_count": 46,
      "outputs": []
    },
    {
      "cell_type": "code",
      "source": [
        "print(df_groupby['totaldeaths_totalcases'])"
      ],
      "metadata": {
        "colab": {
          "base_uri": "https://localhost:8080/"
        },
        "id": "-KSZhnQPVxUK",
        "outputId": "0f253bd2-207b-4e19-d03f-bd41ff9af93f"
      },
      "execution_count": 47,
      "outputs": [
        {
          "output_type": "stream",
          "name": "stdout",
          "text": [
            "continent\n",
            "Africa           0.027004\n",
            "Asia             0.014708\n",
            "Europe           0.026188\n",
            "North America    0.022062\n",
            "Oceania          0.032685\n",
            "South America    0.028251\n",
            "Name: totaldeaths_totalcases, dtype: float64\n"
          ]
        }
      ]
    },
    {
      "cell_type": "markdown",
      "source": [
        "9. Data Visualization :"
      ],
      "metadata": {
        "id": "Ix0lHv8OWCEp"
      }
    },
    {
      "cell_type": "code",
      "source": [
        "import seaborn as sns\n",
        "import matplotlib.pyplot as plt"
      ],
      "metadata": {
        "id": "UFqjbkGWV4qW"
      },
      "execution_count": 48,
      "outputs": []
    },
    {
      "cell_type": "code",
      "source": [
        "df = pd.DataFrame({\"gdp_per_capita\": [30000, 15000, 20000, 40000, 25000, 30000, 12000]})"
      ],
      "metadata": {
        "id": "ZrN8J5WDWpIM"
      },
      "execution_count": 53,
      "outputs": []
    },
    {
      "cell_type": "code",
      "source": [
        "sns.histplot(df['gdp_per_capita'], kde=True)\n",
        "plt.title('Histogram of GDP per Capita')\n",
        "plt.xlabel('GDP per Capita')\n",
        "plt.ylabel('Frequency')\n",
        "plt.show()"
      ],
      "metadata": {
        "colab": {
          "base_uri": "https://localhost:8080/",
          "height": 472
        },
        "id": "C-bJgOQ9b_li",
        "outputId": "e5e0ee34-3a37-4135-bf85-85cadcebbf80"
      },
      "execution_count": 57,
      "outputs": [
        {
          "output_type": "display_data",
          "data": {
            "text/plain": [
              "<Figure size 640x480 with 1 Axes>"
            ],
            "image/png": "[encoded data removed]"
          },
          "metadata": {}
        }
      ]
    },
    {
      "cell_type": "code",
      "source": [
        "df_groupby = pd.DataFrame({'continent': ['Africa', 'Asia', 'Europe'],'value1': [60, 50, 40],'value2': [55, 45, 35]})"
      ],
      "metadata": {
        "id": "8g24-m4XccCY"
      },
      "execution_count": 58,
      "outputs": []
    },
    {
      "cell_type": "code",
      "source": [
        "sns.pairplot(df_groupby, hue='continent')\n",
        "plt.show()"
      ],
      "metadata": {
        "colab": {
          "base_uri": "https://localhost:8080/",
          "height": 513
        },
        "id": "fUzAJ4OQckqE",
        "outputId": "294aaf5c-1840-4826-a25f-32597e8b576e"
      },
      "execution_count": 59,
      "outputs": [
        {
          "output_type": "display_data",
          "data": {
            "text/plain": [
              "<Figure size 598.875x500 with 6 Axes>"
            ],
            "image/png": "[encoded data removed]"
          },
          "metadata": {}
        }
      ]
    },
    {
      "cell_type": "code",
      "source": [
        "df = pd.DataFrame({'continent': ['Africa', 'Asia', 'Europe'],'total_cases': [1000, 2000, 1500]})"
      ],
      "metadata": {
        "id": "9TI4oH6heym8"
      },
      "execution_count": 61,
      "outputs": []
    },
    {
      "cell_type": "code",
      "source": [
        "sns.catplot(x='continent', y='total_cases', data=df, kind='bar')\n",
        "plt.title('Total Cases by Continent')\n",
        "plt.xlabel('Continent')\n",
        "plt.ylabel('Total Cases')\n",
        "plt.show()"
      ],
      "metadata": {
        "colab": {
          "base_uri": "https://localhost:8080/",
          "height": 529
        },
        "id": "xrxc5es2eWsf",
        "outputId": "194d892f-f9cd-4725-d826-ada5eca8c74d"
      },
      "execution_count": 62,
      "outputs": [
        {
          "output_type": "display_data",
          "data": {
            "text/plain": [
              "<Figure size 511.111x500 with 1 Axes>"
            ],
            "image/png": "[encoded data removed]"
          },
          "metadata": {}
        }
      ]
    },
    {
      "cell_type": "code",
      "source": [
        "df_groupby.to_csv('df_groupby.csv', index=False)"
      ],
      "metadata": {
        "id": "ZS35lUacetj7"
      },
      "execution_count": 63,
      "outputs": []
    },
    {
      "cell_type": "code",
      "source": [],
      "metadata": {
        "id": "bYem_F0hfMrb"
      },
      "execution_count": null,
      "outputs": []
    }
  ]
}